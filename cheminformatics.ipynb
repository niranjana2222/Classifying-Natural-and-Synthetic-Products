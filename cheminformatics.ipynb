{
  "cells": [
    {
      "cell_type": "markdown",
      "metadata": {
        "id": "view-in-github",
        "colab_type": "text"
      },
      "source": [
        "<a href=\"https://colab.research.google.com/github/niranjana2222/Classifying-Natural-and-Synthetic-Products/blob/main/cheminformatics.ipynb\" target=\"_parent\"><img src=\"https://colab.research.google.com/assets/colab-badge.svg\" alt=\"Open In Colab\"/></a>"
      ]
    },
    {
      "cell_type": "code",
      "execution_count": null,
      "metadata": {
        "id": "CvjkR8mcpyJI"
      },
      "outputs": [],
      "source": [
        "#imports\n",
        "import pandas as pd\n",
        "import math\n",
        "import zipfile\n",
        "import os\n",
        "import numpy as np"
      ]
    },
    {
      "cell_type": "code",
      "execution_count": null,
      "metadata": {
        "id": "8L-Ze2ROp3Vz"
      },
      "outputs": [],
      "source": [
        "#create dataframes\n",
        "all_nat_csv = []\n",
        "count = 0\n",
        "for i in os.listdir('/content/nat_csv'):\n",
        "    if count > 12:\n",
        "        break\n",
        "    all_nat_csv.append(pd.read_csv(f'/content/nat_csv/{i}', lineterminator='\\n', encoding='latin1', on_bad_lines='skip'))\n",
        "    count +=1\n",
        "\n",
        "nat_df = pd.concat(all_nat_csv)\n",
        " \n",
        "all_syn_csv= []\n",
        "count = 0\n",
        "for i in os.listdir('/content/syn_csv'):\n",
        "    if count > 12:\n",
        "        break\n",
        "    all_syn_csv.append(pd.read_csv(f'/content/syn_csv/{i}', lineterminator='\\n', encoding='latin1', on_bad_lines='skip'))\n",
        "    count += 1\n",
        "\n",
        "syn_df = pd.concat(all_syn_csv)\n",
        "#syn_df.describe()\n",
        " \n",
        "#create labels\n",
        "nat_df['label'] = 0 #natural = 0\n",
        "syn_df['label'] = 1 #synthetic = 1\n",
        "\n",
        "#create final dataframe\n",
        "final_df = pd.concat([nat_df, syn_df])\n",
        "del final_df['smiles']\n",
        "\n",
        "#replace bad data\n",
        "nan_value=False\n",
        "for i in final_df.columns:\n",
        "    \n",
        "    for j in final_df[i]:\n",
        "        if (math.isnan(j)):\n",
        "            nan_value=True\n",
        "        \n",
        "        if (j >= 1.7976931348623157e+308):\n",
        "            final_df[i].replace(j, final_df[i].mean())\n",
        "            \n",
        "    if nan_value:\n",
        "        nan_value=False\n",
        "        final_df.fillna(value=final_df[i].mean(), inplace=True)\n",
        "        \n",
        "        \n",
        "final_df.replace(np.inf, float(0), inplace=True )\n",
        "final_df.replace(-np.inf, float(0), inplace=True )\n"
      ]
    },
    {
      "cell_type": "code",
      "execution_count": null,
      "metadata": {
        "id": "CupepRUep6bl"
      },
      "outputs": [],
      "source": [
        "from sklearn.model_selection import train_test_split\n",
        "\n",
        "#create training and test data\n",
        "y = final_df['label']\n",
        "del final_df['label']\n",
        "X = final_df\n",
        "X_train, X_test, y_train, y_test = train_test_split(X.values, y.values)"
      ]
    },
    {
      "cell_type": "code",
      "source": [
        "\n",
        "#train decision tree classifier\n",
        "from sklearn import tree\n",
        "decision_tree = tree.DecisionTreeClassifier(max_depth=16)\n",
        "decision_tree.fit(X_train, y_train)\n",
        "\n",
        "#train extra trees classifier\n",
        "from sklearn.ensemble import ExtraTreesClassifier\n",
        "extra_trees = ExtraTreesClassifier(max_depth=16)\n",
        "extra_trees.fit(X_train,y_train)\n",
        "\n",
        "#train random forest classifier\n",
        "from sklearn.ensemble import RandomForestClassifier\n",
        "random_forest = RandomForestClassifier(max_depth=16)\n",
        "random_forest.fit(X_train,y_train)\n"
      ],
      "metadata": {
        "id": "-b8yTyM3QkWl",
        "colab": {
          "base_uri": "https://localhost:8080/",
          "height": 242
        },
        "outputId": "6ae2aa12-a0f0-4b79-d00c-3a0fdd6931e2"
      },
      "execution_count": null,
      "outputs": [
        {
          "output_type": "error",
          "ename": "NameError",
          "evalue": "ignored",
          "traceback": [
            "\u001b[0;31m---------------------------------------------------------------------------\u001b[0m",
            "\u001b[0;31mNameError\u001b[0m                                 Traceback (most recent call last)",
            "\u001b[0;32m<ipython-input-1-2fcc24be8b3c>\u001b[0m in \u001b[0;36m<module>\u001b[0;34m\u001b[0m\n\u001b[1;32m      2\u001b[0m \u001b[0;32mfrom\u001b[0m \u001b[0msklearn\u001b[0m \u001b[0;32mimport\u001b[0m \u001b[0mtree\u001b[0m\u001b[0;34m\u001b[0m\u001b[0;34m\u001b[0m\u001b[0m\n\u001b[1;32m      3\u001b[0m \u001b[0mdecision_tree\u001b[0m \u001b[0;34m=\u001b[0m \u001b[0mtree\u001b[0m\u001b[0;34m.\u001b[0m\u001b[0mDecisionTreeClassifier\u001b[0m\u001b[0;34m(\u001b[0m\u001b[0mmax_depth\u001b[0m\u001b[0;34m=\u001b[0m\u001b[0;36m16\u001b[0m\u001b[0;34m)\u001b[0m\u001b[0;34m\u001b[0m\u001b[0;34m\u001b[0m\u001b[0m\n\u001b[0;32m----> 4\u001b[0;31m \u001b[0mdecision_tree\u001b[0m\u001b[0;34m.\u001b[0m\u001b[0mfit\u001b[0m\u001b[0;34m(\u001b[0m\u001b[0mX_train\u001b[0m\u001b[0;34m,\u001b[0m \u001b[0my_train\u001b[0m\u001b[0;34m)\u001b[0m\u001b[0;34m\u001b[0m\u001b[0;34m\u001b[0m\u001b[0m\n\u001b[0m\u001b[1;32m      5\u001b[0m \u001b[0;34m\u001b[0m\u001b[0m\n\u001b[1;32m      6\u001b[0m \u001b[0;31m#train extra trees classifier\u001b[0m\u001b[0;34m\u001b[0m\u001b[0;34m\u001b[0m\u001b[0;34m\u001b[0m\u001b[0m\n",
            "\u001b[0;31mNameError\u001b[0m: name 'X_train' is not defined"
          ]
        }
      ]
    },
    {
      "cell_type": "code",
      "source": [
        "from sklearn.metrics import accuracy_score\n",
        "from sklearn.metrics import plot_confusion_matrix\n",
        "from sklearn.metrics import classification_report\n",
        "import matplotlib.pyplot as plt\n",
        "\n",
        "def evaluate(tree):\n",
        "  y_pred = tree.predict(X_test)\n",
        "  print(\"Accuracy: \", accuracy_score(y_pred, y_test))\n",
        "  plot_confusion_matrix(tree, X_test, y_test)  \n",
        "  plt.show()\n",
        "  \n",
        "  print('\\n', classification_report(y_test,y_pred))\n",
        "\n",
        "  feat_importances = pd.Series(tree.feature_importances_, index=final_df.columns)\n",
        "  feat_importances.nlargest(10).plot(kind='barh')\n",
        "  plt.show()\n",
        "\n",
        "print(\"Decision Tree\")\n",
        "evaluate(decision_tree)\n",
        "print(\"Extra Trees\")\n",
        "evaluate(extra_trees)\n",
        "print(\"Random Forest\")\n",
        "evaluate(random_forest)\n",
        "\n",
        "print(\"0 = Natural\")\n",
        "print(\"1 = Synthetic\")"
      ],
      "metadata": {
        "id": "9TWpNxnLRm-z"
      },
      "execution_count": null,
      "outputs": []
    },
    {
      "cell_type": "code",
      "execution_count": null,
      "metadata": {
        "id": "xoXnmcSLp9oY",
        "colab": {
          "base_uri": "https://localhost:8080/"
        },
        "outputId": "f54088c1-9ec6-43d6-b31d-270e3d7f8c7d"
      },
      "outputs": [
        {
          "output_type": "stream",
          "name": "stdout",
          "text": [
            "Feature: 1456, Name: TDB2m Score: 0.30757\n",
            "Feature: 1443, Name: XLogP Score: 0.17040\n",
            "Feature: 1440, Name: WTPT-5 Score: 0.11240\n",
            "Feature: 1437, Name: WTPT-2 Score: 0.08011\n",
            "Feature: 1434, Name: MW Score: 0.05166\n",
            "Feature: 1315, Name: nFRing Score: 0.04533\n",
            "Feature: 1275, Name: MLFER_BH Score: 0.03533\n",
            "Feature: 1267, Name: MDEO-22 Score: 0.02631\n",
            "Feature: 1175, Name: ETA_BetaP_s Score: 0.02573\n",
            "Feature: 1159, Name: ETA_Epsilon_3 Score: 0.02405\n"
          ]
        },
        {
          "output_type": "stream",
          "name": "stderr",
          "text": [
            "/usr/local/lib/python3.7/dist-packages/ipykernel_launcher.py:24: FutureWarning: Indexing with a float is deprecated, and will raise an IndexError in pandas 2.0. You can manually convert to an integer key instead.\n"
          ]
        }
      ],
      "source": [
        "importance = decision_tree.feature_importances_\n",
        "j = 0\n",
        "indices = []\n",
        "\n",
        "# remove unused features with importance of 0\n",
        "for j,v in enumerate(importance):\n",
        "    if v <= 0:\n",
        "      indices.append(j)\n",
        "    j+=1\n",
        "\n",
        "#add feature index\n",
        "feature_numbers = np.arange(1876)\n",
        "feature_numbers = np.delete(feature_numbers, indices)\n",
        "actual_importances = np.delete(importance, indices)\n",
        "used_features = np.column_stack((feature_numbers, actual_importances))\n",
        "\n",
        "#sort features in reverse\n",
        "sorted_features = np.sort(used_features, axis=0)[::-1]\n",
        "\n",
        "j = 0\n",
        "indices = []\n",
        "for k, (i, v) in enumerate(sorted_features):\n",
        "  if j < 10:\n",
        "    print('Feature: %0d, Name: %s Score: %.5f' % (i, final_df.columns[i], v))\n",
        "  else:\n",
        "    indices.append(j)\n",
        "  j+=1\n",
        "\n",
        "top_ten = np.delete(sorted_features, indices)"
      ]
    }
  ],
  "metadata": {
    "colab": {
      "provenance": [],
      "authorship_tag": "ABX9TyOaDLFEYUKuW25s36TDr2ak",
      "include_colab_link": true
    },
    "kernelspec": {
      "display_name": "Python 3",
      "name": "python3"
    },
    "language_info": {
      "name": "python"
    }
  },
  "nbformat": 4,
  "nbformat_minor": 0
}